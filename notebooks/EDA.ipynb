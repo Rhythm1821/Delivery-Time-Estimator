{
 "cells": [
  {
   "cell_type": "code",
   "execution_count": 1,
   "metadata": {},
   "outputs": [],
   "source": [
    "import pandas as pd\n",
    "import numpy as np\n",
    "import seaborn as sns"
   ]
  },
  {
   "cell_type": "code",
   "execution_count": 3,
   "metadata": {},
   "outputs": [
    {
     "data": {
      "text/html": [
       "<div>\n",
       "<style scoped>\n",
       "    .dataframe tbody tr th:only-of-type {\n",
       "        vertical-align: middle;\n",
       "    }\n",
       "\n",
       "    .dataframe tbody tr th {\n",
       "        vertical-align: top;\n",
       "    }\n",
       "\n",
       "    .dataframe thead th {\n",
       "        text-align: right;\n",
       "    }\n",
       "</style>\n",
       "<table border=\"1\" class=\"dataframe\">\n",
       "  <thead>\n",
       "    <tr style=\"text-align: right;\">\n",
       "      <th></th>\n",
       "      <th>ID</th>\n",
       "      <th>Delivery_person_ID</th>\n",
       "      <th>Delivery_person_Age</th>\n",
       "      <th>Delivery_person_Ratings</th>\n",
       "      <th>Restaurant_latitude</th>\n",
       "      <th>Restaurant_longitude</th>\n",
       "      <th>Delivery_location_latitude</th>\n",
       "      <th>Delivery_location_longitude</th>\n",
       "      <th>Order_Date</th>\n",
       "      <th>Time_Orderd</th>\n",
       "      <th>Time_Order_picked</th>\n",
       "      <th>Weather_conditions</th>\n",
       "      <th>Road_traffic_density</th>\n",
       "      <th>Vehicle_condition</th>\n",
       "      <th>Type_of_order</th>\n",
       "      <th>Type_of_vehicle</th>\n",
       "      <th>multiple_deliveries</th>\n",
       "      <th>Festival</th>\n",
       "      <th>City</th>\n",
       "      <th>Time_taken (min)</th>\n",
       "    </tr>\n",
       "  </thead>\n",
       "  <tbody>\n",
       "    <tr>\n",
       "      <th>0</th>\n",
       "      <td>0xcdcd</td>\n",
       "      <td>DEHRES17DEL01</td>\n",
       "      <td>36.0</td>\n",
       "      <td>4.2</td>\n",
       "      <td>30.327968</td>\n",
       "      <td>78.046106</td>\n",
       "      <td>30.397968</td>\n",
       "      <td>78.116106</td>\n",
       "      <td>12-02-2022</td>\n",
       "      <td>21:55</td>\n",
       "      <td>22:10</td>\n",
       "      <td>Fog</td>\n",
       "      <td>Jam</td>\n",
       "      <td>2</td>\n",
       "      <td>Snack</td>\n",
       "      <td>motorcycle</td>\n",
       "      <td>3.0</td>\n",
       "      <td>No</td>\n",
       "      <td>Metropolitian</td>\n",
       "      <td>46</td>\n",
       "    </tr>\n",
       "    <tr>\n",
       "      <th>1</th>\n",
       "      <td>0xd987</td>\n",
       "      <td>KOCRES16DEL01</td>\n",
       "      <td>21.0</td>\n",
       "      <td>4.7</td>\n",
       "      <td>10.003064</td>\n",
       "      <td>76.307589</td>\n",
       "      <td>10.043064</td>\n",
       "      <td>76.347589</td>\n",
       "      <td>13-02-2022</td>\n",
       "      <td>14:55</td>\n",
       "      <td>15:05</td>\n",
       "      <td>Stormy</td>\n",
       "      <td>High</td>\n",
       "      <td>1</td>\n",
       "      <td>Meal</td>\n",
       "      <td>motorcycle</td>\n",
       "      <td>1.0</td>\n",
       "      <td>No</td>\n",
       "      <td>Metropolitian</td>\n",
       "      <td>23</td>\n",
       "    </tr>\n",
       "    <tr>\n",
       "      <th>2</th>\n",
       "      <td>0x2784</td>\n",
       "      <td>PUNERES13DEL03</td>\n",
       "      <td>23.0</td>\n",
       "      <td>4.7</td>\n",
       "      <td>18.562450</td>\n",
       "      <td>73.916619</td>\n",
       "      <td>18.652450</td>\n",
       "      <td>74.006619</td>\n",
       "      <td>04-03-2022</td>\n",
       "      <td>17:30</td>\n",
       "      <td>17:40</td>\n",
       "      <td>Sandstorms</td>\n",
       "      <td>Medium</td>\n",
       "      <td>1</td>\n",
       "      <td>Drinks</td>\n",
       "      <td>scooter</td>\n",
       "      <td>1.0</td>\n",
       "      <td>No</td>\n",
       "      <td>Metropolitian</td>\n",
       "      <td>21</td>\n",
       "    </tr>\n",
       "    <tr>\n",
       "      <th>3</th>\n",
       "      <td>0xc8b6</td>\n",
       "      <td>LUDHRES15DEL02</td>\n",
       "      <td>34.0</td>\n",
       "      <td>4.3</td>\n",
       "      <td>30.899584</td>\n",
       "      <td>75.809346</td>\n",
       "      <td>30.919584</td>\n",
       "      <td>75.829346</td>\n",
       "      <td>13-02-2022</td>\n",
       "      <td>09:20</td>\n",
       "      <td>09:30</td>\n",
       "      <td>Sandstorms</td>\n",
       "      <td>Low</td>\n",
       "      <td>0</td>\n",
       "      <td>Buffet</td>\n",
       "      <td>motorcycle</td>\n",
       "      <td>0.0</td>\n",
       "      <td>No</td>\n",
       "      <td>Metropolitian</td>\n",
       "      <td>20</td>\n",
       "    </tr>\n",
       "    <tr>\n",
       "      <th>4</th>\n",
       "      <td>0xdb64</td>\n",
       "      <td>KNPRES14DEL02</td>\n",
       "      <td>24.0</td>\n",
       "      <td>4.7</td>\n",
       "      <td>26.463504</td>\n",
       "      <td>80.372929</td>\n",
       "      <td>26.593504</td>\n",
       "      <td>80.502929</td>\n",
       "      <td>14-02-2022</td>\n",
       "      <td>19:50</td>\n",
       "      <td>20:05</td>\n",
       "      <td>Fog</td>\n",
       "      <td>Jam</td>\n",
       "      <td>1</td>\n",
       "      <td>Snack</td>\n",
       "      <td>scooter</td>\n",
       "      <td>1.0</td>\n",
       "      <td>No</td>\n",
       "      <td>Metropolitian</td>\n",
       "      <td>41</td>\n",
       "    </tr>\n",
       "  </tbody>\n",
       "</table>\n",
       "</div>"
      ],
      "text/plain": [
       "       ID Delivery_person_ID  Delivery_person_Age  Delivery_person_Ratings  \\\n",
       "0  0xcdcd      DEHRES17DEL01                 36.0                      4.2   \n",
       "1  0xd987      KOCRES16DEL01                 21.0                      4.7   \n",
       "2  0x2784     PUNERES13DEL03                 23.0                      4.7   \n",
       "3  0xc8b6     LUDHRES15DEL02                 34.0                      4.3   \n",
       "4  0xdb64      KNPRES14DEL02                 24.0                      4.7   \n",
       "\n",
       "   Restaurant_latitude  Restaurant_longitude  Delivery_location_latitude  \\\n",
       "0            30.327968             78.046106                   30.397968   \n",
       "1            10.003064             76.307589                   10.043064   \n",
       "2            18.562450             73.916619                   18.652450   \n",
       "3            30.899584             75.809346                   30.919584   \n",
       "4            26.463504             80.372929                   26.593504   \n",
       "\n",
       "   Delivery_location_longitude  Order_Date Time_Orderd Time_Order_picked  \\\n",
       "0                    78.116106  12-02-2022       21:55             22:10   \n",
       "1                    76.347589  13-02-2022       14:55             15:05   \n",
       "2                    74.006619  04-03-2022       17:30             17:40   \n",
       "3                    75.829346  13-02-2022       09:20             09:30   \n",
       "4                    80.502929  14-02-2022       19:50             20:05   \n",
       "\n",
       "  Weather_conditions Road_traffic_density  Vehicle_condition Type_of_order  \\\n",
       "0                Fog                  Jam                  2         Snack   \n",
       "1             Stormy                 High                  1          Meal   \n",
       "2         Sandstorms               Medium                  1        Drinks   \n",
       "3         Sandstorms                  Low                  0        Buffet   \n",
       "4                Fog                  Jam                  1         Snack   \n",
       "\n",
       "  Type_of_vehicle  multiple_deliveries Festival           City  \\\n",
       "0      motorcycle                  3.0       No  Metropolitian   \n",
       "1      motorcycle                  1.0       No  Metropolitian   \n",
       "2         scooter                  1.0       No  Metropolitian   \n",
       "3      motorcycle                  0.0       No  Metropolitian   \n",
       "4         scooter                  1.0       No  Metropolitian   \n",
       "\n",
       "   Time_taken (min)  \n",
       "0                46  \n",
       "1                23  \n",
       "2                21  \n",
       "3                20  \n",
       "4                41  "
      ]
     },
     "execution_count": 3,
     "metadata": {},
     "output_type": "execute_result"
    }
   ],
   "source": [
    "df=pd.read_csv('data/data.csv')\n",
    "df.head()"
   ]
  },
  {
   "cell_type": "code",
   "execution_count": 12,
   "metadata": {},
   "outputs": [
    {
     "data": {
      "text/plain": [
       "Metropolitian    34087\n",
       "Urban            10133\n",
       "Semi-Urban         164\n",
       "Name: City, dtype: int64"
      ]
     },
     "execution_count": 12,
     "metadata": {},
     "output_type": "execute_result"
    }
   ],
   "source": [
    "df['City'].value_counts()"
   ]
  },
  {
   "cell_type": "code",
   "execution_count": 4,
   "metadata": {},
   "outputs": [
    {
     "data": {
      "text/plain": [
       "(45584, 20)"
      ]
     },
     "execution_count": 4,
     "metadata": {},
     "output_type": "execute_result"
    }
   ],
   "source": [
    "df.shape"
   ]
  },
  {
   "cell_type": "code",
   "execution_count": 5,
   "metadata": {},
   "outputs": [],
   "source": [
    "df.drop(columns=['Order_Date','ID'],axis=1,inplace=True)"
   ]
  },
  {
   "cell_type": "code",
   "execution_count": 6,
   "metadata": {},
   "outputs": [
    {
     "name": "stderr",
     "output_type": "stream",
     "text": [
      "C:\\Users\\HP\\AppData\\Local\\Temp\\ipykernel_13748\\3507663625.py:1: DeprecationWarning: `import pandas_profiling` is going to be deprecated by April 1st. Please use `import ydata_profiling` instead.\n",
      "  from pandas_profiling import ProfileReport\n"
     ]
    }
   ],
   "source": [
    "from pandas_profiling import ProfileReport\n",
    "pf = ProfileReport(df)"
   ]
  },
  {
   "cell_type": "code",
   "execution_count": 7,
   "metadata": {},
   "outputs": [],
   "source": [
    "# pf.to_widgets()"
   ]
  },
  {
   "cell_type": "code",
   "execution_count": 8,
   "metadata": {},
   "outputs": [],
   "source": [
    "#As we can notice high correlation between (Delivery_location_latitude,Restaurant_latitude) and (Restaurant_longitude,Delivery_location_longitude) so we can remove each feature from both of the groups\n",
    "df.drop(columns=['Restaurant_latitude','Restaurant_longitude'],inplace=True)"
   ]
  },
  {
   "cell_type": "code",
   "execution_count": 9,
   "metadata": {},
   "outputs": [
    {
     "data": {
      "text/plain": [
       "Delivery_person_ID                0\n",
       "Delivery_person_Age            1854\n",
       "Delivery_person_Ratings        1908\n",
       "Delivery_location_latitude        0\n",
       "Delivery_location_longitude       0\n",
       "Time_Orderd                    1731\n",
       "Time_Order_picked                 0\n",
       "Weather_conditions              616\n",
       "Road_traffic_density            601\n",
       "Vehicle_condition                 0\n",
       "Type_of_order                     0\n",
       "Type_of_vehicle                   0\n",
       "multiple_deliveries             993\n",
       "Festival                        228\n",
       "City                           1200\n",
       "Time_taken (min)                  0\n",
       "dtype: int64"
      ]
     },
     "execution_count": 9,
     "metadata": {},
     "output_type": "execute_result"
    }
   ],
   "source": [
    "df.isnull().sum()"
   ]
  },
  {
   "cell_type": "code",
   "execution_count": 10,
   "metadata": {},
   "outputs": [
    {
     "name": "stdout",
     "output_type": "stream",
     "text": [
      "numerical_columns Index(['Delivery_person_Age', 'Delivery_person_Ratings',\n",
      "       'Delivery_location_latitude', 'Delivery_location_longitude',\n",
      "       'Vehicle_condition', 'multiple_deliveries', 'Time_taken (min)'],\n",
      "      dtype='object')\n",
      "categorical_columns Index(['Delivery_person_ID', 'Time_Orderd', 'Time_Order_picked',\n",
      "       'Weather_conditions', 'Road_traffic_density', 'Type_of_order',\n",
      "       'Type_of_vehicle', 'Festival', 'City'],\n",
      "      dtype='object')\n"
     ]
    }
   ],
   "source": [
    "#Segregate numerical columns and categorical columns\n",
    "numerical_columns = df.columns[df.dtypes!='object']\n",
    "categorical_columns = df.columns[df.dtypes=='object']\n",
    "print('numerical_columns',numerical_columns)\n",
    "print('categorical_columns',categorical_columns)"
   ]
  },
  {
   "cell_type": "code",
   "execution_count": 11,
   "metadata": {},
   "outputs": [],
   "source": [
    "from sklearn.impute import SimpleImputer\n",
    "num_imputer = SimpleImputer(strategy='median')\n",
    "num_imputer.fit(df[numerical_columns])\n",
    "df[numerical_columns] = num_imputer.transform(df[numerical_columns])"
   ]
  },
  {
   "cell_type": "code",
   "execution_count": 12,
   "metadata": {},
   "outputs": [
    {
     "data": {
      "text/plain": [
       "Delivery_person_Age            0\n",
       "Delivery_person_Ratings        0\n",
       "Delivery_location_latitude     0\n",
       "Delivery_location_longitude    0\n",
       "Vehicle_condition              0\n",
       "multiple_deliveries            0\n",
       "Time_taken (min)               0\n",
       "dtype: int64"
      ]
     },
     "execution_count": 12,
     "metadata": {},
     "output_type": "execute_result"
    }
   ],
   "source": [
    "df[numerical_columns].isnull().sum()"
   ]
  },
  {
   "cell_type": "code",
   "execution_count": 13,
   "metadata": {},
   "outputs": [
    {
     "data": {
      "text/plain": [
       "Delivery_person_ID         0\n",
       "Time_Orderd             1731\n",
       "Time_Order_picked          0\n",
       "Weather_conditions       616\n",
       "Road_traffic_density     601\n",
       "Type_of_order              0\n",
       "Type_of_vehicle            0\n",
       "Festival                 228\n",
       "City                    1200\n",
       "dtype: int64"
      ]
     },
     "execution_count": 13,
     "metadata": {},
     "output_type": "execute_result"
    }
   ],
   "source": [
    "df[categorical_columns].isnull().sum()"
   ]
  },
  {
   "cell_type": "code",
   "execution_count": 14,
   "metadata": {},
   "outputs": [],
   "source": [
    "cat_imputer = SimpleImputer(strategy='most_frequent')\n",
    "df[categorical_columns] = cat_imputer.fit_transform(df[categorical_columns])"
   ]
  },
  {
   "cell_type": "code",
   "execution_count": 15,
   "metadata": {},
   "outputs": [
    {
     "data": {
      "text/plain": [
       "Delivery_person_ID      0\n",
       "Time_Orderd             0\n",
       "Time_Order_picked       0\n",
       "Weather_conditions      0\n",
       "Road_traffic_density    0\n",
       "Type_of_order           0\n",
       "Type_of_vehicle         0\n",
       "Festival                0\n",
       "City                    0\n",
       "dtype: int64"
      ]
     },
     "execution_count": 15,
     "metadata": {},
     "output_type": "execute_result"
    }
   ],
   "source": [
    "df[categorical_columns].isnull().sum()"
   ]
  },
  {
   "cell_type": "code",
   "execution_count": 16,
   "metadata": {},
   "outputs": [],
   "source": [
    "df['Delivery_person_Age'] = df['Delivery_person_Age'].astype(int)\n",
    "df['multiple_deliveries'] = df['multiple_deliveries'].astype(int)"
   ]
  },
  {
   "cell_type": "code",
   "execution_count": 17,
   "metadata": {},
   "outputs": [],
   "source": [
    "df['Time_Orderd_min'] = df['Time_Orderd'].str.split(':').apply(lambda x: int(x[1] if len(x)>1 else int(float(x[0])*60)))\n",
    "df['Time_Order_picked_min'] = df['Time_Order_picked'].str.split(':').apply(lambda x: int(x[1] if len(x)>1 else int(float(x[0])*60)))"
   ]
  },
  {
   "cell_type": "code",
   "execution_count": 18,
   "metadata": {},
   "outputs": [],
   "source": [
    "# Dropping Time_Orderd,Time_Order_picked\n",
    "df.drop(columns=['Time_Orderd','Time_Order_picked'],axis=1,inplace=True)"
   ]
  },
  {
   "cell_type": "code",
   "execution_count": 19,
   "metadata": {},
   "outputs": [
    {
     "data": {
      "text/plain": [
       "Delivery_person_ID             0\n",
       "Delivery_person_Age            0\n",
       "Delivery_person_Ratings        0\n",
       "Delivery_location_latitude     0\n",
       "Delivery_location_longitude    0\n",
       "Weather_conditions             0\n",
       "Road_traffic_density           0\n",
       "Vehicle_condition              0\n",
       "Type_of_order                  0\n",
       "Type_of_vehicle                0\n",
       "multiple_deliveries            0\n",
       "Festival                       0\n",
       "City                           0\n",
       "Time_taken (min)               0\n",
       "Time_Orderd_min                0\n",
       "Time_Order_picked_min          0\n",
       "dtype: int64"
      ]
     },
     "execution_count": 19,
     "metadata": {},
     "output_type": "execute_result"
    }
   ],
   "source": [
    "df.isnull().sum()"
   ]
  },
  {
   "cell_type": "code",
   "execution_count": 20,
   "metadata": {},
   "outputs": [
    {
     "data": {
      "text/plain": [
       "Delivery_person_ID              object\n",
       "Delivery_person_Age              int32\n",
       "Delivery_person_Ratings        float64\n",
       "Delivery_location_latitude     float64\n",
       "Delivery_location_longitude    float64\n",
       "Weather_conditions              object\n",
       "Road_traffic_density            object\n",
       "Vehicle_condition              float64\n",
       "Type_of_order                   object\n",
       "Type_of_vehicle                 object\n",
       "multiple_deliveries              int32\n",
       "Festival                        object\n",
       "City                            object\n",
       "Time_taken (min)               float64\n",
       "Time_Orderd_min                  int64\n",
       "Time_Order_picked_min            int64\n",
       "dtype: object"
      ]
     },
     "execution_count": 20,
     "metadata": {},
     "output_type": "execute_result"
    }
   ],
   "source": [
    "df.dtypes"
   ]
  },
  {
   "cell_type": "code",
   "execution_count": 21,
   "metadata": {},
   "outputs": [
    {
     "name": "stdout",
     "output_type": "stream",
     "text": [
      "numerical_columns Index(['Delivery_person_Age', 'Delivery_person_Ratings',\n",
      "       'Delivery_location_latitude', 'Delivery_location_longitude',\n",
      "       'Vehicle_condition', 'multiple_deliveries', 'Time_taken (min)',\n",
      "       'Time_Orderd_min', 'Time_Order_picked_min'],\n",
      "      dtype='object')\n",
      "categorical_columns Index(['Delivery_person_ID', 'Weather_conditions', 'Road_traffic_density',\n",
      "       'Type_of_order', 'Type_of_vehicle', 'Festival', 'City'],\n",
      "      dtype='object')\n"
     ]
    }
   ],
   "source": [
    "#Segregate numerical columns and categorical columns\n",
    "numerical_columns = df.columns[df.dtypes!='object']\n",
    "categorical_columns = df.columns[df.dtypes=='object']\n",
    "print('numerical_columns',numerical_columns)\n",
    "print('categorical_columns',categorical_columns)"
   ]
  },
  {
   "cell_type": "code",
   "execution_count": 22,
   "metadata": {},
   "outputs": [
    {
     "data": {
      "text/html": [
       "<div>\n",
       "<style scoped>\n",
       "    .dataframe tbody tr th:only-of-type {\n",
       "        vertical-align: middle;\n",
       "    }\n",
       "\n",
       "    .dataframe tbody tr th {\n",
       "        vertical-align: top;\n",
       "    }\n",
       "\n",
       "    .dataframe thead th {\n",
       "        text-align: right;\n",
       "    }\n",
       "</style>\n",
       "<table border=\"1\" class=\"dataframe\">\n",
       "  <thead>\n",
       "    <tr style=\"text-align: right;\">\n",
       "      <th></th>\n",
       "      <th>Delivery_person_ID</th>\n",
       "      <th>Weather_conditions</th>\n",
       "      <th>Road_traffic_density</th>\n",
       "      <th>Type_of_order</th>\n",
       "      <th>Type_of_vehicle</th>\n",
       "      <th>Festival</th>\n",
       "      <th>City</th>\n",
       "    </tr>\n",
       "  </thead>\n",
       "  <tbody>\n",
       "    <tr>\n",
       "      <th>0</th>\n",
       "      <td>DEHRES17DEL01</td>\n",
       "      <td>Fog</td>\n",
       "      <td>Jam</td>\n",
       "      <td>Snack</td>\n",
       "      <td>motorcycle</td>\n",
       "      <td>No</td>\n",
       "      <td>Metropolitian</td>\n",
       "    </tr>\n",
       "    <tr>\n",
       "      <th>1</th>\n",
       "      <td>KOCRES16DEL01</td>\n",
       "      <td>Stormy</td>\n",
       "      <td>High</td>\n",
       "      <td>Meal</td>\n",
       "      <td>motorcycle</td>\n",
       "      <td>No</td>\n",
       "      <td>Metropolitian</td>\n",
       "    </tr>\n",
       "    <tr>\n",
       "      <th>2</th>\n",
       "      <td>PUNERES13DEL03</td>\n",
       "      <td>Sandstorms</td>\n",
       "      <td>Medium</td>\n",
       "      <td>Drinks</td>\n",
       "      <td>scooter</td>\n",
       "      <td>No</td>\n",
       "      <td>Metropolitian</td>\n",
       "    </tr>\n",
       "    <tr>\n",
       "      <th>3</th>\n",
       "      <td>LUDHRES15DEL02</td>\n",
       "      <td>Sandstorms</td>\n",
       "      <td>Low</td>\n",
       "      <td>Buffet</td>\n",
       "      <td>motorcycle</td>\n",
       "      <td>No</td>\n",
       "      <td>Metropolitian</td>\n",
       "    </tr>\n",
       "    <tr>\n",
       "      <th>4</th>\n",
       "      <td>KNPRES14DEL02</td>\n",
       "      <td>Fog</td>\n",
       "      <td>Jam</td>\n",
       "      <td>Snack</td>\n",
       "      <td>scooter</td>\n",
       "      <td>No</td>\n",
       "      <td>Metropolitian</td>\n",
       "    </tr>\n",
       "  </tbody>\n",
       "</table>\n",
       "</div>"
      ],
      "text/plain": [
       "  Delivery_person_ID Weather_conditions Road_traffic_density Type_of_order  \\\n",
       "0      DEHRES17DEL01                Fog                  Jam         Snack   \n",
       "1      KOCRES16DEL01             Stormy                 High          Meal   \n",
       "2     PUNERES13DEL03         Sandstorms               Medium        Drinks   \n",
       "3     LUDHRES15DEL02         Sandstorms                  Low        Buffet   \n",
       "4      KNPRES14DEL02                Fog                  Jam         Snack   \n",
       "\n",
       "  Type_of_vehicle Festival           City  \n",
       "0      motorcycle       No  Metropolitian  \n",
       "1      motorcycle       No  Metropolitian  \n",
       "2         scooter       No  Metropolitian  \n",
       "3      motorcycle       No  Metropolitian  \n",
       "4         scooter       No  Metropolitian  "
      ]
     },
     "execution_count": 22,
     "metadata": {},
     "output_type": "execute_result"
    }
   ],
   "source": [
    "cat_df=df[categorical_columns]\n",
    "cat_df.head()"
   ]
  },
  {
   "cell_type": "code",
   "execution_count": 23,
   "metadata": {},
   "outputs": [
    {
     "name": "stdout",
     "output_type": "stream",
     "text": [
      "Weather_conditions ['Fog' 'Stormy' 'Sandstorms' 'Windy' 'Cloudy' 'Sunny']\n",
      "Road_traffic_density ['Jam' 'High' 'Medium' 'Low']\n",
      "Type_of_order ['Snack' 'Meal' 'Drinks' 'Buffet']\n",
      "Type_of_vehicle ['motorcycle' 'scooter' 'electric_scooter' 'bicycle']\n",
      "Festival ['No' 'Yes']\n",
      "City ['Metropolitian' 'Urban' 'Semi-Urban']\n"
     ]
    }
   ],
   "source": [
    "print('Weather_conditions',cat_df['Weather_conditions'].unique())\n",
    "print('Road_traffic_density',cat_df['Road_traffic_density'].unique())\n",
    "print('Type_of_order',cat_df['Type_of_order'].unique())\n",
    "print('Type_of_vehicle',cat_df['Type_of_vehicle'].unique())\n",
    "print('Festival',cat_df['Festival'].unique())\n",
    "print('City',cat_df['City'].unique())"
   ]
  },
  {
   "cell_type": "code",
   "execution_count": 24,
   "metadata": {},
   "outputs": [],
   "source": [
    "categories = ['Fog','Stormy','Sandstorms','Windy','Cloudy','Sunny'],['Jam', 'High', 'Medium', 'Low'],['Drinks','Snack','Meal','Buffet'],['bicycle','electric_scooter','scooter','motorcycle'],['Yes','No'],['Semi-Urban','Urban','Metropolitian']\n",
    "ordinal_cols = df[categorical_columns].drop(columns='Delivery_person_ID',axis=1)"
   ]
  },
  {
   "cell_type": "code",
   "execution_count": 25,
   "metadata": {},
   "outputs": [],
   "source": [
    "from sklearn.preprocessing import OrdinalEncoder\n",
    "encoder = OrdinalEncoder(categories=list(categories))\n",
    "encoded_columns = encoder.fit_transform(ordinal_cols)\n",
    "encoded_df = pd.DataFrame(encoded_columns,columns=ordinal_cols.columns).astype(int)"
   ]
  },
  {
   "cell_type": "code",
   "execution_count": 26,
   "metadata": {},
   "outputs": [
    {
     "data": {
      "text/html": [
       "<div>\n",
       "<style scoped>\n",
       "    .dataframe tbody tr th:only-of-type {\n",
       "        vertical-align: middle;\n",
       "    }\n",
       "\n",
       "    .dataframe tbody tr th {\n",
       "        vertical-align: top;\n",
       "    }\n",
       "\n",
       "    .dataframe thead th {\n",
       "        text-align: right;\n",
       "    }\n",
       "</style>\n",
       "<table border=\"1\" class=\"dataframe\">\n",
       "  <thead>\n",
       "    <tr style=\"text-align: right;\">\n",
       "      <th></th>\n",
       "      <th>Weather_conditions</th>\n",
       "      <th>Road_traffic_density</th>\n",
       "      <th>Type_of_order</th>\n",
       "      <th>Type_of_vehicle</th>\n",
       "      <th>Festival</th>\n",
       "      <th>City</th>\n",
       "    </tr>\n",
       "  </thead>\n",
       "  <tbody>\n",
       "    <tr>\n",
       "      <th>0</th>\n",
       "      <td>0</td>\n",
       "      <td>0</td>\n",
       "      <td>1</td>\n",
       "      <td>3</td>\n",
       "      <td>1</td>\n",
       "      <td>2</td>\n",
       "    </tr>\n",
       "    <tr>\n",
       "      <th>1</th>\n",
       "      <td>1</td>\n",
       "      <td>1</td>\n",
       "      <td>2</td>\n",
       "      <td>3</td>\n",
       "      <td>1</td>\n",
       "      <td>2</td>\n",
       "    </tr>\n",
       "    <tr>\n",
       "      <th>2</th>\n",
       "      <td>2</td>\n",
       "      <td>2</td>\n",
       "      <td>0</td>\n",
       "      <td>2</td>\n",
       "      <td>1</td>\n",
       "      <td>2</td>\n",
       "    </tr>\n",
       "    <tr>\n",
       "      <th>3</th>\n",
       "      <td>2</td>\n",
       "      <td>3</td>\n",
       "      <td>3</td>\n",
       "      <td>3</td>\n",
       "      <td>1</td>\n",
       "      <td>2</td>\n",
       "    </tr>\n",
       "    <tr>\n",
       "      <th>4</th>\n",
       "      <td>0</td>\n",
       "      <td>0</td>\n",
       "      <td>1</td>\n",
       "      <td>2</td>\n",
       "      <td>1</td>\n",
       "      <td>2</td>\n",
       "    </tr>\n",
       "  </tbody>\n",
       "</table>\n",
       "</div>"
      ],
      "text/plain": [
       "   Weather_conditions  Road_traffic_density  Type_of_order  Type_of_vehicle  \\\n",
       "0                   0                     0              1                3   \n",
       "1                   1                     1              2                3   \n",
       "2                   2                     2              0                2   \n",
       "3                   2                     3              3                3   \n",
       "4                   0                     0              1                2   \n",
       "\n",
       "   Festival  City  \n",
       "0         1     2  \n",
       "1         1     2  \n",
       "2         1     2  \n",
       "3         1     2  \n",
       "4         1     2  "
      ]
     },
     "execution_count": 26,
     "metadata": {},
     "output_type": "execute_result"
    }
   ],
   "source": [
    "encoded_df.head()"
   ]
  },
  {
   "cell_type": "code",
   "execution_count": 27,
   "metadata": {},
   "outputs": [
    {
     "data": {
      "text/html": [
       "<div>\n",
       "<style scoped>\n",
       "    .dataframe tbody tr th:only-of-type {\n",
       "        vertical-align: middle;\n",
       "    }\n",
       "\n",
       "    .dataframe tbody tr th {\n",
       "        vertical-align: top;\n",
       "    }\n",
       "\n",
       "    .dataframe thead th {\n",
       "        text-align: right;\n",
       "    }\n",
       "</style>\n",
       "<table border=\"1\" class=\"dataframe\">\n",
       "  <thead>\n",
       "    <tr style=\"text-align: right;\">\n",
       "      <th></th>\n",
       "      <th>Delivery_person_Age</th>\n",
       "      <th>Delivery_person_Ratings</th>\n",
       "      <th>Delivery_location_latitude</th>\n",
       "      <th>Delivery_location_longitude</th>\n",
       "      <th>Vehicle_condition</th>\n",
       "      <th>multiple_deliveries</th>\n",
       "      <th>Time_taken (min)</th>\n",
       "      <th>Time_Orderd_min</th>\n",
       "      <th>Time_Order_picked_min</th>\n",
       "      <th>Weather_conditions</th>\n",
       "      <th>Road_traffic_density</th>\n",
       "      <th>Type_of_order</th>\n",
       "      <th>Type_of_vehicle</th>\n",
       "      <th>Festival</th>\n",
       "      <th>City</th>\n",
       "    </tr>\n",
       "  </thead>\n",
       "  <tbody>\n",
       "    <tr>\n",
       "      <th>0</th>\n",
       "      <td>36</td>\n",
       "      <td>4.2</td>\n",
       "      <td>30.397968</td>\n",
       "      <td>78.116106</td>\n",
       "      <td>2.0</td>\n",
       "      <td>3</td>\n",
       "      <td>46.0</td>\n",
       "      <td>55</td>\n",
       "      <td>10</td>\n",
       "      <td>0</td>\n",
       "      <td>0</td>\n",
       "      <td>1</td>\n",
       "      <td>3</td>\n",
       "      <td>1</td>\n",
       "      <td>2</td>\n",
       "    </tr>\n",
       "    <tr>\n",
       "      <th>1</th>\n",
       "      <td>21</td>\n",
       "      <td>4.7</td>\n",
       "      <td>10.043064</td>\n",
       "      <td>76.347589</td>\n",
       "      <td>1.0</td>\n",
       "      <td>1</td>\n",
       "      <td>23.0</td>\n",
       "      <td>55</td>\n",
       "      <td>5</td>\n",
       "      <td>1</td>\n",
       "      <td>1</td>\n",
       "      <td>2</td>\n",
       "      <td>3</td>\n",
       "      <td>1</td>\n",
       "      <td>2</td>\n",
       "    </tr>\n",
       "    <tr>\n",
       "      <th>2</th>\n",
       "      <td>23</td>\n",
       "      <td>4.7</td>\n",
       "      <td>18.652450</td>\n",
       "      <td>74.006619</td>\n",
       "      <td>1.0</td>\n",
       "      <td>1</td>\n",
       "      <td>21.0</td>\n",
       "      <td>30</td>\n",
       "      <td>40</td>\n",
       "      <td>2</td>\n",
       "      <td>2</td>\n",
       "      <td>0</td>\n",
       "      <td>2</td>\n",
       "      <td>1</td>\n",
       "      <td>2</td>\n",
       "    </tr>\n",
       "    <tr>\n",
       "      <th>3</th>\n",
       "      <td>34</td>\n",
       "      <td>4.3</td>\n",
       "      <td>30.919584</td>\n",
       "      <td>75.829346</td>\n",
       "      <td>0.0</td>\n",
       "      <td>0</td>\n",
       "      <td>20.0</td>\n",
       "      <td>20</td>\n",
       "      <td>30</td>\n",
       "      <td>2</td>\n",
       "      <td>3</td>\n",
       "      <td>3</td>\n",
       "      <td>3</td>\n",
       "      <td>1</td>\n",
       "      <td>2</td>\n",
       "    </tr>\n",
       "    <tr>\n",
       "      <th>4</th>\n",
       "      <td>24</td>\n",
       "      <td>4.7</td>\n",
       "      <td>26.593504</td>\n",
       "      <td>80.502929</td>\n",
       "      <td>1.0</td>\n",
       "      <td>1</td>\n",
       "      <td>41.0</td>\n",
       "      <td>50</td>\n",
       "      <td>5</td>\n",
       "      <td>0</td>\n",
       "      <td>0</td>\n",
       "      <td>1</td>\n",
       "      <td>2</td>\n",
       "      <td>1</td>\n",
       "      <td>2</td>\n",
       "    </tr>\n",
       "  </tbody>\n",
       "</table>\n",
       "</div>"
      ],
      "text/plain": [
       "   Delivery_person_Age  Delivery_person_Ratings  Delivery_location_latitude  \\\n",
       "0                   36                      4.2                   30.397968   \n",
       "1                   21                      4.7                   10.043064   \n",
       "2                   23                      4.7                   18.652450   \n",
       "3                   34                      4.3                   30.919584   \n",
       "4                   24                      4.7                   26.593504   \n",
       "\n",
       "   Delivery_location_longitude  Vehicle_condition  multiple_deliveries  \\\n",
       "0                    78.116106                2.0                    3   \n",
       "1                    76.347589                1.0                    1   \n",
       "2                    74.006619                1.0                    1   \n",
       "3                    75.829346                0.0                    0   \n",
       "4                    80.502929                1.0                    1   \n",
       "\n",
       "   Time_taken (min)  Time_Orderd_min  Time_Order_picked_min  \\\n",
       "0              46.0               55                     10   \n",
       "1              23.0               55                      5   \n",
       "2              21.0               30                     40   \n",
       "3              20.0               20                     30   \n",
       "4              41.0               50                      5   \n",
       "\n",
       "   Weather_conditions  Road_traffic_density  Type_of_order  Type_of_vehicle  \\\n",
       "0                   0                     0              1                3   \n",
       "1                   1                     1              2                3   \n",
       "2                   2                     2              0                2   \n",
       "3                   2                     3              3                3   \n",
       "4                   0                     0              1                2   \n",
       "\n",
       "   Festival  City  \n",
       "0         1     2  \n",
       "1         1     2  \n",
       "2         1     2  \n",
       "3         1     2  \n",
       "4         1     2  "
      ]
     },
     "execution_count": 27,
     "metadata": {},
     "output_type": "execute_result"
    }
   ],
   "source": [
    "#Merge encoded_df and numerical_df\n",
    "final_df = pd.concat([df[numerical_columns],encoded_df],axis=1)\n",
    "final_df.head()"
   ]
  },
  {
   "attachments": {},
   "cell_type": "markdown",
   "metadata": {},
   "source": [
    "First attempt"
   ]
  },
  {
   "cell_type": "code",
   "execution_count": 28,
   "metadata": {},
   "outputs": [],
   "source": [
    "X = final_df.drop(columns=['Time_taken (min)'])\n",
    "y = final_df['Time_taken (min)']"
   ]
  },
  {
   "cell_type": "code",
   "execution_count": 29,
   "metadata": {},
   "outputs": [],
   "source": [
    "from sklearn.model_selection import train_test_split\n",
    "X_train,X_test,y_train,y_test = train_test_split(X,y,test_size=0.3)"
   ]
  },
  {
   "cell_type": "code",
   "execution_count": 30,
   "metadata": {},
   "outputs": [
    {
     "data": {
      "text/html": [
       "<style>#sk-container-id-1 {color: black;background-color: white;}#sk-container-id-1 pre{padding: 0;}#sk-container-id-1 div.sk-toggleable {background-color: white;}#sk-container-id-1 label.sk-toggleable__label {cursor: pointer;display: block;width: 100%;margin-bottom: 0;padding: 0.3em;box-sizing: border-box;text-align: center;}#sk-container-id-1 label.sk-toggleable__label-arrow:before {content: \"▸\";float: left;margin-right: 0.25em;color: #696969;}#sk-container-id-1 label.sk-toggleable__label-arrow:hover:before {color: black;}#sk-container-id-1 div.sk-estimator:hover label.sk-toggleable__label-arrow:before {color: black;}#sk-container-id-1 div.sk-toggleable__content {max-height: 0;max-width: 0;overflow: hidden;text-align: left;background-color: #f0f8ff;}#sk-container-id-1 div.sk-toggleable__content pre {margin: 0.2em;color: black;border-radius: 0.25em;background-color: #f0f8ff;}#sk-container-id-1 input.sk-toggleable__control:checked~div.sk-toggleable__content {max-height: 200px;max-width: 100%;overflow: auto;}#sk-container-id-1 input.sk-toggleable__control:checked~label.sk-toggleable__label-arrow:before {content: \"▾\";}#sk-container-id-1 div.sk-estimator input.sk-toggleable__control:checked~label.sk-toggleable__label {background-color: #d4ebff;}#sk-container-id-1 div.sk-label input.sk-toggleable__control:checked~label.sk-toggleable__label {background-color: #d4ebff;}#sk-container-id-1 input.sk-hidden--visually {border: 0;clip: rect(1px 1px 1px 1px);clip: rect(1px, 1px, 1px, 1px);height: 1px;margin: -1px;overflow: hidden;padding: 0;position: absolute;width: 1px;}#sk-container-id-1 div.sk-estimator {font-family: monospace;background-color: #f0f8ff;border: 1px dotted black;border-radius: 0.25em;box-sizing: border-box;margin-bottom: 0.5em;}#sk-container-id-1 div.sk-estimator:hover {background-color: #d4ebff;}#sk-container-id-1 div.sk-parallel-item::after {content: \"\";width: 100%;border-bottom: 1px solid gray;flex-grow: 1;}#sk-container-id-1 div.sk-label:hover label.sk-toggleable__label {background-color: #d4ebff;}#sk-container-id-1 div.sk-serial::before {content: \"\";position: absolute;border-left: 1px solid gray;box-sizing: border-box;top: 0;bottom: 0;left: 50%;z-index: 0;}#sk-container-id-1 div.sk-serial {display: flex;flex-direction: column;align-items: center;background-color: white;padding-right: 0.2em;padding-left: 0.2em;position: relative;}#sk-container-id-1 div.sk-item {position: relative;z-index: 1;}#sk-container-id-1 div.sk-parallel {display: flex;align-items: stretch;justify-content: center;background-color: white;position: relative;}#sk-container-id-1 div.sk-item::before, #sk-container-id-1 div.sk-parallel-item::before {content: \"\";position: absolute;border-left: 1px solid gray;box-sizing: border-box;top: 0;bottom: 0;left: 50%;z-index: -1;}#sk-container-id-1 div.sk-parallel-item {display: flex;flex-direction: column;z-index: 1;position: relative;background-color: white;}#sk-container-id-1 div.sk-parallel-item:first-child::after {align-self: flex-end;width: 50%;}#sk-container-id-1 div.sk-parallel-item:last-child::after {align-self: flex-start;width: 50%;}#sk-container-id-1 div.sk-parallel-item:only-child::after {width: 0;}#sk-container-id-1 div.sk-dashed-wrapped {border: 1px dashed gray;margin: 0 0.4em 0.5em 0.4em;box-sizing: border-box;padding-bottom: 0.4em;background-color: white;}#sk-container-id-1 div.sk-label label {font-family: monospace;font-weight: bold;display: inline-block;line-height: 1.2em;}#sk-container-id-1 div.sk-label-container {text-align: center;}#sk-container-id-1 div.sk-container {/* jupyter's `normalize.less` sets `[hidden] { display: none; }` but bootstrap.min.css set `[hidden] { display: none !important; }` so we also need the `!important` here to be able to override the default hidden behavior on the sphinx rendered scikit-learn.org. See: https://github.com/scikit-learn/scikit-learn/issues/21755 */display: inline-block !important;position: relative;}#sk-container-id-1 div.sk-text-repr-fallback {display: none;}</style><div id=\"sk-container-id-1\" class=\"sk-top-container\"><div class=\"sk-text-repr-fallback\"><pre>LinearRegression()</pre><b>In a Jupyter environment, please rerun this cell to show the HTML representation or trust the notebook. <br />On GitHub, the HTML representation is unable to render, please try loading this page with nbviewer.org.</b></div><div class=\"sk-container\" hidden><div class=\"sk-item\"><div class=\"sk-estimator sk-toggleable\"><input class=\"sk-toggleable__control sk-hidden--visually\" id=\"sk-estimator-id-1\" type=\"checkbox\" checked><label for=\"sk-estimator-id-1\" class=\"sk-toggleable__label sk-toggleable__label-arrow\">LinearRegression</label><div class=\"sk-toggleable__content\"><pre>LinearRegression()</pre></div></div></div></div></div>"
      ],
      "text/plain": [
       "LinearRegression()"
      ]
     },
     "execution_count": 30,
     "metadata": {},
     "output_type": "execute_result"
    }
   ],
   "source": [
    "from sklearn.linear_model import LinearRegression\n",
    "from sklearn.metrics import mean_squared_error,mean_absolute_error,r2_score\n",
    "linear = LinearRegression()\n",
    "linear.fit(X_train,y_train)"
   ]
  },
  {
   "cell_type": "code",
   "execution_count": 31,
   "metadata": {},
   "outputs": [
    {
     "name": "stdout",
     "output_type": "stream",
     "text": [
      "mean_squared_error 44.284784381414774\n",
      "mean_absolute_error 5.25541970388441\n",
      "r2_score -0.03186571977881436\n"
     ]
    }
   ],
   "source": [
    "y_pred = linear.predict(X_test)\n",
    "print('mean_squared_error',mean_squared_error(y_pred,y_test))\n",
    "print('mean_absolute_error',mean_absolute_error(y_pred,y_test))\n",
    "print('r2_score',r2_score(y_pred,y_test))"
   ]
  },
  {
   "cell_type": "code",
   "execution_count": 32,
   "metadata": {},
   "outputs": [
    {
     "data": {
      "text/html": [
       "<div>\n",
       "<style scoped>\n",
       "    .dataframe tbody tr th:only-of-type {\n",
       "        vertical-align: middle;\n",
       "    }\n",
       "\n",
       "    .dataframe tbody tr th {\n",
       "        vertical-align: top;\n",
       "    }\n",
       "\n",
       "    .dataframe thead th {\n",
       "        text-align: right;\n",
       "    }\n",
       "</style>\n",
       "<table border=\"1\" class=\"dataframe\">\n",
       "  <thead>\n",
       "    <tr style=\"text-align: right;\">\n",
       "      <th></th>\n",
       "      <th>Delivery_person_Age</th>\n",
       "      <th>Delivery_person_Ratings</th>\n",
       "      <th>Delivery_location_latitude</th>\n",
       "      <th>Delivery_location_longitude</th>\n",
       "      <th>Vehicle_condition</th>\n",
       "      <th>multiple_deliveries</th>\n",
       "      <th>Time_taken (min)</th>\n",
       "      <th>Time_Orderd_min</th>\n",
       "      <th>Time_Order_picked_min</th>\n",
       "      <th>Weather_conditions</th>\n",
       "      <th>Road_traffic_density</th>\n",
       "      <th>Type_of_order</th>\n",
       "      <th>Type_of_vehicle</th>\n",
       "      <th>Festival</th>\n",
       "      <th>City</th>\n",
       "    </tr>\n",
       "  </thead>\n",
       "  <tbody>\n",
       "    <tr>\n",
       "      <th>0</th>\n",
       "      <td>36</td>\n",
       "      <td>4.2</td>\n",
       "      <td>30.397968</td>\n",
       "      <td>78.116106</td>\n",
       "      <td>2.0</td>\n",
       "      <td>3</td>\n",
       "      <td>46.0</td>\n",
       "      <td>55</td>\n",
       "      <td>10</td>\n",
       "      <td>0</td>\n",
       "      <td>0</td>\n",
       "      <td>1</td>\n",
       "      <td>3</td>\n",
       "      <td>1</td>\n",
       "      <td>2</td>\n",
       "    </tr>\n",
       "    <tr>\n",
       "      <th>1</th>\n",
       "      <td>21</td>\n",
       "      <td>4.7</td>\n",
       "      <td>10.043064</td>\n",
       "      <td>76.347589</td>\n",
       "      <td>1.0</td>\n",
       "      <td>1</td>\n",
       "      <td>23.0</td>\n",
       "      <td>55</td>\n",
       "      <td>5</td>\n",
       "      <td>1</td>\n",
       "      <td>1</td>\n",
       "      <td>2</td>\n",
       "      <td>3</td>\n",
       "      <td>1</td>\n",
       "      <td>2</td>\n",
       "    </tr>\n",
       "    <tr>\n",
       "      <th>2</th>\n",
       "      <td>23</td>\n",
       "      <td>4.7</td>\n",
       "      <td>18.652450</td>\n",
       "      <td>74.006619</td>\n",
       "      <td>1.0</td>\n",
       "      <td>1</td>\n",
       "      <td>21.0</td>\n",
       "      <td>30</td>\n",
       "      <td>40</td>\n",
       "      <td>2</td>\n",
       "      <td>2</td>\n",
       "      <td>0</td>\n",
       "      <td>2</td>\n",
       "      <td>1</td>\n",
       "      <td>2</td>\n",
       "    </tr>\n",
       "    <tr>\n",
       "      <th>3</th>\n",
       "      <td>34</td>\n",
       "      <td>4.3</td>\n",
       "      <td>30.919584</td>\n",
       "      <td>75.829346</td>\n",
       "      <td>0.0</td>\n",
       "      <td>0</td>\n",
       "      <td>20.0</td>\n",
       "      <td>20</td>\n",
       "      <td>30</td>\n",
       "      <td>2</td>\n",
       "      <td>3</td>\n",
       "      <td>3</td>\n",
       "      <td>3</td>\n",
       "      <td>1</td>\n",
       "      <td>2</td>\n",
       "    </tr>\n",
       "    <tr>\n",
       "      <th>4</th>\n",
       "      <td>24</td>\n",
       "      <td>4.7</td>\n",
       "      <td>26.593504</td>\n",
       "      <td>80.502929</td>\n",
       "      <td>1.0</td>\n",
       "      <td>1</td>\n",
       "      <td>41.0</td>\n",
       "      <td>50</td>\n",
       "      <td>5</td>\n",
       "      <td>0</td>\n",
       "      <td>0</td>\n",
       "      <td>1</td>\n",
       "      <td>2</td>\n",
       "      <td>1</td>\n",
       "      <td>2</td>\n",
       "    </tr>\n",
       "  </tbody>\n",
       "</table>\n",
       "</div>"
      ],
      "text/plain": [
       "   Delivery_person_Age  Delivery_person_Ratings  Delivery_location_latitude  \\\n",
       "0                   36                      4.2                   30.397968   \n",
       "1                   21                      4.7                   10.043064   \n",
       "2                   23                      4.7                   18.652450   \n",
       "3                   34                      4.3                   30.919584   \n",
       "4                   24                      4.7                   26.593504   \n",
       "\n",
       "   Delivery_location_longitude  Vehicle_condition  multiple_deliveries  \\\n",
       "0                    78.116106                2.0                    3   \n",
       "1                    76.347589                1.0                    1   \n",
       "2                    74.006619                1.0                    1   \n",
       "3                    75.829346                0.0                    0   \n",
       "4                    80.502929                1.0                    1   \n",
       "\n",
       "   Time_taken (min)  Time_Orderd_min  Time_Order_picked_min  \\\n",
       "0              46.0               55                     10   \n",
       "1              23.0               55                      5   \n",
       "2              21.0               30                     40   \n",
       "3              20.0               20                     30   \n",
       "4              41.0               50                      5   \n",
       "\n",
       "   Weather_conditions  Road_traffic_density  Type_of_order  Type_of_vehicle  \\\n",
       "0                   0                     0              1                3   \n",
       "1                   1                     1              2                3   \n",
       "2                   2                     2              0                2   \n",
       "3                   2                     3              3                3   \n",
       "4                   0                     0              1                2   \n",
       "\n",
       "   Festival  City  \n",
       "0         1     2  \n",
       "1         1     2  \n",
       "2         1     2  \n",
       "3         1     2  \n",
       "4         1     2  "
      ]
     },
     "execution_count": 32,
     "metadata": {},
     "output_type": "execute_result"
    }
   ],
   "source": [
    "final_df.head()"
   ]
  },
  {
   "cell_type": "code",
   "execution_count": 33,
   "metadata": {},
   "outputs": [],
   "source": [
    "from pandas_profiling import ProfileReport\n",
    "pf = ProfileReport(final_df)"
   ]
  },
  {
   "cell_type": "code",
   "execution_count": 34,
   "metadata": {},
   "outputs": [],
   "source": [
    "# pf.to_widgets()"
   ]
  },
  {
   "cell_type": "code",
   "execution_count": 35,
   "metadata": {},
   "outputs": [],
   "source": [
    "#Calculating time difference order and pickup\n",
    "x = []\n",
    "for i in range(len(final_df)):\n",
    "    if final_df['Time_Order_picked_min'][i] < final_df['Time_Orderd_min'][i]:\n",
    "        x.append(final_df['Time_Order_picked_min'][i] + (60-final_df['Time_Orderd_min'][i]))\n",
    "    else:\n",
    "        x.append(final_df['Time_Order_picked_min'][i] - final_df['Time_Orderd_min'][i])\n",
    "final_df['Time_diff_bw_order_and_pickup'] = x"
   ]
  },
  {
   "attachments": {},
   "cell_type": "markdown",
   "metadata": {},
   "source": [
    "Second attempt"
   ]
  },
  {
   "cell_type": "code",
   "execution_count": 36,
   "metadata": {},
   "outputs": [],
   "source": [
    "X = final_df.drop(columns=['Time_taken (min)'])\n",
    "y = final_df['Time_taken (min)']\n",
    "X_train,X_test,y_train,y_test = train_test_split(X,y,test_size=0.3)"
   ]
  },
  {
   "cell_type": "code",
   "execution_count": 37,
   "metadata": {},
   "outputs": [
    {
     "data": {
      "text/html": [
       "<style>#sk-container-id-2 {color: black;background-color: white;}#sk-container-id-2 pre{padding: 0;}#sk-container-id-2 div.sk-toggleable {background-color: white;}#sk-container-id-2 label.sk-toggleable__label {cursor: pointer;display: block;width: 100%;margin-bottom: 0;padding: 0.3em;box-sizing: border-box;text-align: center;}#sk-container-id-2 label.sk-toggleable__label-arrow:before {content: \"▸\";float: left;margin-right: 0.25em;color: #696969;}#sk-container-id-2 label.sk-toggleable__label-arrow:hover:before {color: black;}#sk-container-id-2 div.sk-estimator:hover label.sk-toggleable__label-arrow:before {color: black;}#sk-container-id-2 div.sk-toggleable__content {max-height: 0;max-width: 0;overflow: hidden;text-align: left;background-color: #f0f8ff;}#sk-container-id-2 div.sk-toggleable__content pre {margin: 0.2em;color: black;border-radius: 0.25em;background-color: #f0f8ff;}#sk-container-id-2 input.sk-toggleable__control:checked~div.sk-toggleable__content {max-height: 200px;max-width: 100%;overflow: auto;}#sk-container-id-2 input.sk-toggleable__control:checked~label.sk-toggleable__label-arrow:before {content: \"▾\";}#sk-container-id-2 div.sk-estimator input.sk-toggleable__control:checked~label.sk-toggleable__label {background-color: #d4ebff;}#sk-container-id-2 div.sk-label input.sk-toggleable__control:checked~label.sk-toggleable__label {background-color: #d4ebff;}#sk-container-id-2 input.sk-hidden--visually {border: 0;clip: rect(1px 1px 1px 1px);clip: rect(1px, 1px, 1px, 1px);height: 1px;margin: -1px;overflow: hidden;padding: 0;position: absolute;width: 1px;}#sk-container-id-2 div.sk-estimator {font-family: monospace;background-color: #f0f8ff;border: 1px dotted black;border-radius: 0.25em;box-sizing: border-box;margin-bottom: 0.5em;}#sk-container-id-2 div.sk-estimator:hover {background-color: #d4ebff;}#sk-container-id-2 div.sk-parallel-item::after {content: \"\";width: 100%;border-bottom: 1px solid gray;flex-grow: 1;}#sk-container-id-2 div.sk-label:hover label.sk-toggleable__label {background-color: #d4ebff;}#sk-container-id-2 div.sk-serial::before {content: \"\";position: absolute;border-left: 1px solid gray;box-sizing: border-box;top: 0;bottom: 0;left: 50%;z-index: 0;}#sk-container-id-2 div.sk-serial {display: flex;flex-direction: column;align-items: center;background-color: white;padding-right: 0.2em;padding-left: 0.2em;position: relative;}#sk-container-id-2 div.sk-item {position: relative;z-index: 1;}#sk-container-id-2 div.sk-parallel {display: flex;align-items: stretch;justify-content: center;background-color: white;position: relative;}#sk-container-id-2 div.sk-item::before, #sk-container-id-2 div.sk-parallel-item::before {content: \"\";position: absolute;border-left: 1px solid gray;box-sizing: border-box;top: 0;bottom: 0;left: 50%;z-index: -1;}#sk-container-id-2 div.sk-parallel-item {display: flex;flex-direction: column;z-index: 1;position: relative;background-color: white;}#sk-container-id-2 div.sk-parallel-item:first-child::after {align-self: flex-end;width: 50%;}#sk-container-id-2 div.sk-parallel-item:last-child::after {align-self: flex-start;width: 50%;}#sk-container-id-2 div.sk-parallel-item:only-child::after {width: 0;}#sk-container-id-2 div.sk-dashed-wrapped {border: 1px dashed gray;margin: 0 0.4em 0.5em 0.4em;box-sizing: border-box;padding-bottom: 0.4em;background-color: white;}#sk-container-id-2 div.sk-label label {font-family: monospace;font-weight: bold;display: inline-block;line-height: 1.2em;}#sk-container-id-2 div.sk-label-container {text-align: center;}#sk-container-id-2 div.sk-container {/* jupyter's `normalize.less` sets `[hidden] { display: none; }` but bootstrap.min.css set `[hidden] { display: none !important; }` so we also need the `!important` here to be able to override the default hidden behavior on the sphinx rendered scikit-learn.org. See: https://github.com/scikit-learn/scikit-learn/issues/21755 */display: inline-block !important;position: relative;}#sk-container-id-2 div.sk-text-repr-fallback {display: none;}</style><div id=\"sk-container-id-2\" class=\"sk-top-container\"><div class=\"sk-text-repr-fallback\"><pre>LinearRegression()</pre><b>In a Jupyter environment, please rerun this cell to show the HTML representation or trust the notebook. <br />On GitHub, the HTML representation is unable to render, please try loading this page with nbviewer.org.</b></div><div class=\"sk-container\" hidden><div class=\"sk-item\"><div class=\"sk-estimator sk-toggleable\"><input class=\"sk-toggleable__control sk-hidden--visually\" id=\"sk-estimator-id-2\" type=\"checkbox\" checked><label for=\"sk-estimator-id-2\" class=\"sk-toggleable__label sk-toggleable__label-arrow\">LinearRegression</label><div class=\"sk-toggleable__content\"><pre>LinearRegression()</pre></div></div></div></div></div>"
      ],
      "text/plain": [
       "LinearRegression()"
      ]
     },
     "execution_count": 37,
     "metadata": {},
     "output_type": "execute_result"
    }
   ],
   "source": [
    "linear2 = LinearRegression()\n",
    "linear2.fit(X_train,y_train)"
   ]
  },
  {
   "cell_type": "code",
   "execution_count": 38,
   "metadata": {},
   "outputs": [
    {
     "name": "stdout",
     "output_type": "stream",
     "text": [
      "mean_squared_error 44.46842546967338\n",
      "mean_absolute_error 5.254784677977792\n",
      "r2_score -0.023226964574704967\n"
     ]
    }
   ],
   "source": [
    "y_pred = linear2.predict(X_test)\n",
    "print('mean_squared_error',mean_squared_error(y_pred,y_test))\n",
    "print('mean_absolute_error',mean_absolute_error(y_pred,y_test))\n",
    "print('r2_score',r2_score(y_pred,y_test))"
   ]
  },
  {
   "attachments": {},
   "cell_type": "markdown",
   "metadata": {},
   "source": [
    "Third Attempt"
   ]
  },
  {
   "cell_type": "code",
   "execution_count": 39,
   "metadata": {},
   "outputs": [
    {
     "name": "stderr",
     "output_type": "stream",
     "text": [
      "C:\\Users\\HP\\AppData\\Local\\Temp\\ipykernel_13748\\1028175497.py:3: DeprecationWarning: In a future version, `df.iloc[:, i] = newvals` will attempt to set the values inplace instead of always setting a new array. To retain the old behavior, use either `df[df.columns[i]] = newvals` or, if columns are non-unique, `df.isetitem(i, newvals)`\n",
      "  final_df[:] = scaler.fit_transform(final_df)\n"
     ]
    }
   ],
   "source": [
    "from sklearn.preprocessing import MinMaxScaler\n",
    "scaler = MinMaxScaler()\n",
    "final_df[:] = scaler.fit_transform(final_df)"
   ]
  },
  {
   "cell_type": "code",
   "execution_count": 40,
   "metadata": {},
   "outputs": [],
   "source": [
    "X = final_df.drop(columns=['Time_taken (min)'])\n",
    "y = final_df['Time_taken (min)']\n",
    "X_train,X_test,y_train,y_test = train_test_split(X,y,test_size=0.3)"
   ]
  },
  {
   "cell_type": "code",
   "execution_count": 41,
   "metadata": {},
   "outputs": [
    {
     "data": {
      "text/html": [
       "<style>#sk-container-id-3 {color: black;background-color: white;}#sk-container-id-3 pre{padding: 0;}#sk-container-id-3 div.sk-toggleable {background-color: white;}#sk-container-id-3 label.sk-toggleable__label {cursor: pointer;display: block;width: 100%;margin-bottom: 0;padding: 0.3em;box-sizing: border-box;text-align: center;}#sk-container-id-3 label.sk-toggleable__label-arrow:before {content: \"▸\";float: left;margin-right: 0.25em;color: #696969;}#sk-container-id-3 label.sk-toggleable__label-arrow:hover:before {color: black;}#sk-container-id-3 div.sk-estimator:hover label.sk-toggleable__label-arrow:before {color: black;}#sk-container-id-3 div.sk-toggleable__content {max-height: 0;max-width: 0;overflow: hidden;text-align: left;background-color: #f0f8ff;}#sk-container-id-3 div.sk-toggleable__content pre {margin: 0.2em;color: black;border-radius: 0.25em;background-color: #f0f8ff;}#sk-container-id-3 input.sk-toggleable__control:checked~div.sk-toggleable__content {max-height: 200px;max-width: 100%;overflow: auto;}#sk-container-id-3 input.sk-toggleable__control:checked~label.sk-toggleable__label-arrow:before {content: \"▾\";}#sk-container-id-3 div.sk-estimator input.sk-toggleable__control:checked~label.sk-toggleable__label {background-color: #d4ebff;}#sk-container-id-3 div.sk-label input.sk-toggleable__control:checked~label.sk-toggleable__label {background-color: #d4ebff;}#sk-container-id-3 input.sk-hidden--visually {border: 0;clip: rect(1px 1px 1px 1px);clip: rect(1px, 1px, 1px, 1px);height: 1px;margin: -1px;overflow: hidden;padding: 0;position: absolute;width: 1px;}#sk-container-id-3 div.sk-estimator {font-family: monospace;background-color: #f0f8ff;border: 1px dotted black;border-radius: 0.25em;box-sizing: border-box;margin-bottom: 0.5em;}#sk-container-id-3 div.sk-estimator:hover {background-color: #d4ebff;}#sk-container-id-3 div.sk-parallel-item::after {content: \"\";width: 100%;border-bottom: 1px solid gray;flex-grow: 1;}#sk-container-id-3 div.sk-label:hover label.sk-toggleable__label {background-color: #d4ebff;}#sk-container-id-3 div.sk-serial::before {content: \"\";position: absolute;border-left: 1px solid gray;box-sizing: border-box;top: 0;bottom: 0;left: 50%;z-index: 0;}#sk-container-id-3 div.sk-serial {display: flex;flex-direction: column;align-items: center;background-color: white;padding-right: 0.2em;padding-left: 0.2em;position: relative;}#sk-container-id-3 div.sk-item {position: relative;z-index: 1;}#sk-container-id-3 div.sk-parallel {display: flex;align-items: stretch;justify-content: center;background-color: white;position: relative;}#sk-container-id-3 div.sk-item::before, #sk-container-id-3 div.sk-parallel-item::before {content: \"\";position: absolute;border-left: 1px solid gray;box-sizing: border-box;top: 0;bottom: 0;left: 50%;z-index: -1;}#sk-container-id-3 div.sk-parallel-item {display: flex;flex-direction: column;z-index: 1;position: relative;background-color: white;}#sk-container-id-3 div.sk-parallel-item:first-child::after {align-self: flex-end;width: 50%;}#sk-container-id-3 div.sk-parallel-item:last-child::after {align-self: flex-start;width: 50%;}#sk-container-id-3 div.sk-parallel-item:only-child::after {width: 0;}#sk-container-id-3 div.sk-dashed-wrapped {border: 1px dashed gray;margin: 0 0.4em 0.5em 0.4em;box-sizing: border-box;padding-bottom: 0.4em;background-color: white;}#sk-container-id-3 div.sk-label label {font-family: monospace;font-weight: bold;display: inline-block;line-height: 1.2em;}#sk-container-id-3 div.sk-label-container {text-align: center;}#sk-container-id-3 div.sk-container {/* jupyter's `normalize.less` sets `[hidden] { display: none; }` but bootstrap.min.css set `[hidden] { display: none !important; }` so we also need the `!important` here to be able to override the default hidden behavior on the sphinx rendered scikit-learn.org. See: https://github.com/scikit-learn/scikit-learn/issues/21755 */display: inline-block !important;position: relative;}#sk-container-id-3 div.sk-text-repr-fallback {display: none;}</style><div id=\"sk-container-id-3\" class=\"sk-top-container\"><div class=\"sk-text-repr-fallback\"><pre>LinearRegression()</pre><b>In a Jupyter environment, please rerun this cell to show the HTML representation or trust the notebook. <br />On GitHub, the HTML representation is unable to render, please try loading this page with nbviewer.org.</b></div><div class=\"sk-container\" hidden><div class=\"sk-item\"><div class=\"sk-estimator sk-toggleable\"><input class=\"sk-toggleable__control sk-hidden--visually\" id=\"sk-estimator-id-3\" type=\"checkbox\" checked><label for=\"sk-estimator-id-3\" class=\"sk-toggleable__label sk-toggleable__label-arrow\">LinearRegression</label><div class=\"sk-toggleable__content\"><pre>LinearRegression()</pre></div></div></div></div></div>"
      ],
      "text/plain": [
       "LinearRegression()"
      ]
     },
     "execution_count": 41,
     "metadata": {},
     "output_type": "execute_result"
    }
   ],
   "source": [
    "linear3 = LinearRegression()\n",
    "linear3.fit(X_train,y_train)"
   ]
  },
  {
   "cell_type": "code",
   "execution_count": 42,
   "metadata": {},
   "outputs": [
    {
     "name": "stdout",
     "output_type": "stream",
     "text": [
      "mean_squared_error 0.022380448065083415\n",
      "mean_absolute_error 0.11845937091922651\n",
      "r2_score 0.026157927850548157\n"
     ]
    }
   ],
   "source": [
    "y_pred = linear3.predict(X_test)\n",
    "print('mean_squared_error',mean_squared_error(y_pred,y_test))\n",
    "print('mean_absolute_error',mean_absolute_error(y_pred,y_test))\n",
    "print('r2_score',r2_score(y_pred,y_test))"
   ]
  },
  {
   "attachments": {},
   "cell_type": "markdown",
   "metadata": {},
   "source": [
    "Logistic regression First attempt Tommorow's task"
   ]
  },
  {
   "cell_type": "code",
   "execution_count": 43,
   "metadata": {},
   "outputs": [
    {
     "data": {
      "text/html": [
       "<style>#sk-container-id-4 {color: black;background-color: white;}#sk-container-id-4 pre{padding: 0;}#sk-container-id-4 div.sk-toggleable {background-color: white;}#sk-container-id-4 label.sk-toggleable__label {cursor: pointer;display: block;width: 100%;margin-bottom: 0;padding: 0.3em;box-sizing: border-box;text-align: center;}#sk-container-id-4 label.sk-toggleable__label-arrow:before {content: \"▸\";float: left;margin-right: 0.25em;color: #696969;}#sk-container-id-4 label.sk-toggleable__label-arrow:hover:before {color: black;}#sk-container-id-4 div.sk-estimator:hover label.sk-toggleable__label-arrow:before {color: black;}#sk-container-id-4 div.sk-toggleable__content {max-height: 0;max-width: 0;overflow: hidden;text-align: left;background-color: #f0f8ff;}#sk-container-id-4 div.sk-toggleable__content pre {margin: 0.2em;color: black;border-radius: 0.25em;background-color: #f0f8ff;}#sk-container-id-4 input.sk-toggleable__control:checked~div.sk-toggleable__content {max-height: 200px;max-width: 100%;overflow: auto;}#sk-container-id-4 input.sk-toggleable__control:checked~label.sk-toggleable__label-arrow:before {content: \"▾\";}#sk-container-id-4 div.sk-estimator input.sk-toggleable__control:checked~label.sk-toggleable__label {background-color: #d4ebff;}#sk-container-id-4 div.sk-label input.sk-toggleable__control:checked~label.sk-toggleable__label {background-color: #d4ebff;}#sk-container-id-4 input.sk-hidden--visually {border: 0;clip: rect(1px 1px 1px 1px);clip: rect(1px, 1px, 1px, 1px);height: 1px;margin: -1px;overflow: hidden;padding: 0;position: absolute;width: 1px;}#sk-container-id-4 div.sk-estimator {font-family: monospace;background-color: #f0f8ff;border: 1px dotted black;border-radius: 0.25em;box-sizing: border-box;margin-bottom: 0.5em;}#sk-container-id-4 div.sk-estimator:hover {background-color: #d4ebff;}#sk-container-id-4 div.sk-parallel-item::after {content: \"\";width: 100%;border-bottom: 1px solid gray;flex-grow: 1;}#sk-container-id-4 div.sk-label:hover label.sk-toggleable__label {background-color: #d4ebff;}#sk-container-id-4 div.sk-serial::before {content: \"\";position: absolute;border-left: 1px solid gray;box-sizing: border-box;top: 0;bottom: 0;left: 50%;z-index: 0;}#sk-container-id-4 div.sk-serial {display: flex;flex-direction: column;align-items: center;background-color: white;padding-right: 0.2em;padding-left: 0.2em;position: relative;}#sk-container-id-4 div.sk-item {position: relative;z-index: 1;}#sk-container-id-4 div.sk-parallel {display: flex;align-items: stretch;justify-content: center;background-color: white;position: relative;}#sk-container-id-4 div.sk-item::before, #sk-container-id-4 div.sk-parallel-item::before {content: \"\";position: absolute;border-left: 1px solid gray;box-sizing: border-box;top: 0;bottom: 0;left: 50%;z-index: -1;}#sk-container-id-4 div.sk-parallel-item {display: flex;flex-direction: column;z-index: 1;position: relative;background-color: white;}#sk-container-id-4 div.sk-parallel-item:first-child::after {align-self: flex-end;width: 50%;}#sk-container-id-4 div.sk-parallel-item:last-child::after {align-self: flex-start;width: 50%;}#sk-container-id-4 div.sk-parallel-item:only-child::after {width: 0;}#sk-container-id-4 div.sk-dashed-wrapped {border: 1px dashed gray;margin: 0 0.4em 0.5em 0.4em;box-sizing: border-box;padding-bottom: 0.4em;background-color: white;}#sk-container-id-4 div.sk-label label {font-family: monospace;font-weight: bold;display: inline-block;line-height: 1.2em;}#sk-container-id-4 div.sk-label-container {text-align: center;}#sk-container-id-4 div.sk-container {/* jupyter's `normalize.less` sets `[hidden] { display: none; }` but bootstrap.min.css set `[hidden] { display: none !important; }` so we also need the `!important` here to be able to override the default hidden behavior on the sphinx rendered scikit-learn.org. See: https://github.com/scikit-learn/scikit-learn/issues/21755 */display: inline-block !important;position: relative;}#sk-container-id-4 div.sk-text-repr-fallback {display: none;}</style><div id=\"sk-container-id-4\" class=\"sk-top-container\"><div class=\"sk-text-repr-fallback\"><pre>SVR()</pre><b>In a Jupyter environment, please rerun this cell to show the HTML representation or trust the notebook. <br />On GitHub, the HTML representation is unable to render, please try loading this page with nbviewer.org.</b></div><div class=\"sk-container\" hidden><div class=\"sk-item\"><div class=\"sk-estimator sk-toggleable\"><input class=\"sk-toggleable__control sk-hidden--visually\" id=\"sk-estimator-id-4\" type=\"checkbox\" checked><label for=\"sk-estimator-id-4\" class=\"sk-toggleable__label sk-toggleable__label-arrow\">SVR</label><div class=\"sk-toggleable__content\"><pre>SVR()</pre></div></div></div></div></div>"
      ],
      "text/plain": [
       "SVR()"
      ]
     },
     "execution_count": 43,
     "metadata": {},
     "output_type": "execute_result"
    }
   ],
   "source": [
    "from sklearn.svm import SVR\n",
    "logistic = SVR()\n",
    "logistic.fit(X_train,y_train)"
   ]
  },
  {
   "cell_type": "code",
   "execution_count": 44,
   "metadata": {},
   "outputs": [
    {
     "name": "stdout",
     "output_type": "stream",
     "text": [
      "mean_squared_error 0.01690961615008893\n",
      "mean_absolute_error 0.10244129247786882\n",
      "r2_score 0.4032273690453333\n"
     ]
    }
   ],
   "source": [
    "y_pred = logistic.predict(X_test)\n",
    "print('mean_squared_error',mean_squared_error(y_pred,y_test))\n",
    "print('mean_absolute_error',mean_absolute_error(y_pred,y_test))\n",
    "print('r2_score',r2_score(y_pred,y_test))"
   ]
  },
  {
   "cell_type": "code",
   "execution_count": 45,
   "metadata": {},
   "outputs": [
    {
     "data": {
      "text/html": [
       "<div>\n",
       "<style scoped>\n",
       "    .dataframe tbody tr th:only-of-type {\n",
       "        vertical-align: middle;\n",
       "    }\n",
       "\n",
       "    .dataframe tbody tr th {\n",
       "        vertical-align: top;\n",
       "    }\n",
       "\n",
       "    .dataframe thead th {\n",
       "        text-align: right;\n",
       "    }\n",
       "</style>\n",
       "<table border=\"1\" class=\"dataframe\">\n",
       "  <thead>\n",
       "    <tr style=\"text-align: right;\">\n",
       "      <th></th>\n",
       "      <th>Delivery_person_Age</th>\n",
       "      <th>Delivery_person_Ratings</th>\n",
       "      <th>Delivery_location_latitude</th>\n",
       "      <th>Delivery_location_longitude</th>\n",
       "      <th>Vehicle_condition</th>\n",
       "      <th>multiple_deliveries</th>\n",
       "      <th>Time_taken (min)</th>\n",
       "      <th>Time_Orderd_min</th>\n",
       "      <th>Time_Order_picked_min</th>\n",
       "      <th>Weather_conditions</th>\n",
       "      <th>Road_traffic_density</th>\n",
       "      <th>Type_of_order</th>\n",
       "      <th>Type_of_vehicle</th>\n",
       "      <th>Festival</th>\n",
       "      <th>City</th>\n",
       "      <th>Time_diff_bw_order_and_pickup</th>\n",
       "    </tr>\n",
       "  </thead>\n",
       "  <tbody>\n",
       "    <tr>\n",
       "      <th>0</th>\n",
       "      <td>0.600000</td>\n",
       "      <td>0.64</td>\n",
       "      <td>0.978866</td>\n",
       "      <td>0.882022</td>\n",
       "      <td>0.666667</td>\n",
       "      <td>1.000000</td>\n",
       "      <td>0.818182</td>\n",
       "      <td>0.9</td>\n",
       "      <td>0.090909</td>\n",
       "      <td>0.0</td>\n",
       "      <td>0.000000</td>\n",
       "      <td>0.333333</td>\n",
       "      <td>1.000000</td>\n",
       "      <td>1.0</td>\n",
       "      <td>1.0</td>\n",
       "      <td>0.254237</td>\n",
       "    </tr>\n",
       "    <tr>\n",
       "      <th>1</th>\n",
       "      <td>0.171429</td>\n",
       "      <td>0.74</td>\n",
       "      <td>0.323188</td>\n",
       "      <td>0.862051</td>\n",
       "      <td>0.333333</td>\n",
       "      <td>0.333333</td>\n",
       "      <td>0.295455</td>\n",
       "      <td>0.9</td>\n",
       "      <td>0.000000</td>\n",
       "      <td>0.2</td>\n",
       "      <td>0.333333</td>\n",
       "      <td>0.666667</td>\n",
       "      <td>1.000000</td>\n",
       "      <td>1.0</td>\n",
       "      <td>1.0</td>\n",
       "      <td>0.169492</td>\n",
       "    </tr>\n",
       "    <tr>\n",
       "      <th>2</th>\n",
       "      <td>0.228571</td>\n",
       "      <td>0.74</td>\n",
       "      <td>0.600516</td>\n",
       "      <td>0.835615</td>\n",
       "      <td>0.333333</td>\n",
       "      <td>0.333333</td>\n",
       "      <td>0.250000</td>\n",
       "      <td>0.4</td>\n",
       "      <td>0.636364</td>\n",
       "      <td>0.4</td>\n",
       "      <td>0.666667</td>\n",
       "      <td>0.000000</td>\n",
       "      <td>0.666667</td>\n",
       "      <td>1.0</td>\n",
       "      <td>1.0</td>\n",
       "      <td>0.169492</td>\n",
       "    </tr>\n",
       "    <tr>\n",
       "      <th>3</th>\n",
       "      <td>0.542857</td>\n",
       "      <td>0.66</td>\n",
       "      <td>0.995668</td>\n",
       "      <td>0.856199</td>\n",
       "      <td>0.000000</td>\n",
       "      <td>0.000000</td>\n",
       "      <td>0.227273</td>\n",
       "      <td>0.2</td>\n",
       "      <td>0.454545</td>\n",
       "      <td>0.4</td>\n",
       "      <td>1.000000</td>\n",
       "      <td>1.000000</td>\n",
       "      <td>1.000000</td>\n",
       "      <td>1.0</td>\n",
       "      <td>1.0</td>\n",
       "      <td>0.169492</td>\n",
       "    </tr>\n",
       "    <tr>\n",
       "      <th>4</th>\n",
       "      <td>0.257143</td>\n",
       "      <td>0.74</td>\n",
       "      <td>0.856315</td>\n",
       "      <td>0.908976</td>\n",
       "      <td>0.333333</td>\n",
       "      <td>0.333333</td>\n",
       "      <td>0.704545</td>\n",
       "      <td>0.8</td>\n",
       "      <td>0.000000</td>\n",
       "      <td>0.0</td>\n",
       "      <td>0.000000</td>\n",
       "      <td>0.333333</td>\n",
       "      <td>0.666667</td>\n",
       "      <td>1.0</td>\n",
       "      <td>1.0</td>\n",
       "      <td>0.254237</td>\n",
       "    </tr>\n",
       "    <tr>\n",
       "      <th>...</th>\n",
       "      <td>...</td>\n",
       "      <td>...</td>\n",
       "      <td>...</td>\n",
       "      <td>...</td>\n",
       "      <td>...</td>\n",
       "      <td>...</td>\n",
       "      <td>...</td>\n",
       "      <td>...</td>\n",
       "      <td>...</td>\n",
       "      <td>...</td>\n",
       "      <td>...</td>\n",
       "      <td>...</td>\n",
       "      <td>...</td>\n",
       "      <td>...</td>\n",
       "      <td>...</td>\n",
       "      <td>...</td>\n",
       "    </tr>\n",
       "    <tr>\n",
       "      <th>45579</th>\n",
       "      <td>0.428571</td>\n",
       "      <td>0.76</td>\n",
       "      <td>0.866585</td>\n",
       "      <td>0.855915</td>\n",
       "      <td>0.333333</td>\n",
       "      <td>0.000000</td>\n",
       "      <td>0.500000</td>\n",
       "      <td>0.5</td>\n",
       "      <td>0.727273</td>\n",
       "      <td>0.6</td>\n",
       "      <td>0.333333</td>\n",
       "      <td>0.666667</td>\n",
       "      <td>1.000000</td>\n",
       "      <td>1.0</td>\n",
       "      <td>1.0</td>\n",
       "      <td>0.169492</td>\n",
       "    </tr>\n",
       "    <tr>\n",
       "      <th>45580</th>\n",
       "      <td>0.171429</td>\n",
       "      <td>0.72</td>\n",
       "      <td>0.001933</td>\n",
       "      <td>0.000678</td>\n",
       "      <td>0.000000</td>\n",
       "      <td>0.333333</td>\n",
       "      <td>0.590909</td>\n",
       "      <td>0.9</td>\n",
       "      <td>0.090909</td>\n",
       "      <td>0.6</td>\n",
       "      <td>0.000000</td>\n",
       "      <td>1.000000</td>\n",
       "      <td>1.000000</td>\n",
       "      <td>1.0</td>\n",
       "      <td>1.0</td>\n",
       "      <td>0.254237</td>\n",
       "    </tr>\n",
       "    <tr>\n",
       "      <th>45581</th>\n",
       "      <td>0.428571</td>\n",
       "      <td>0.78</td>\n",
       "      <td>0.420125</td>\n",
       "      <td>0.906373</td>\n",
       "      <td>0.333333</td>\n",
       "      <td>0.000000</td>\n",
       "      <td>0.136364</td>\n",
       "      <td>0.8</td>\n",
       "      <td>0.000000</td>\n",
       "      <td>0.8</td>\n",
       "      <td>1.000000</td>\n",
       "      <td>0.000000</td>\n",
       "      <td>0.666667</td>\n",
       "      <td>1.0</td>\n",
       "      <td>1.0</td>\n",
       "      <td>0.254237</td>\n",
       "    </tr>\n",
       "    <tr>\n",
       "      <th>45582</th>\n",
       "      <td>0.142857</td>\n",
       "      <td>0.74</td>\n",
       "      <td>0.355358</td>\n",
       "      <td>0.869715</td>\n",
       "      <td>0.000000</td>\n",
       "      <td>0.333333</td>\n",
       "      <td>0.363636</td>\n",
       "      <td>0.5</td>\n",
       "      <td>0.636364</td>\n",
       "      <td>0.8</td>\n",
       "      <td>0.333333</td>\n",
       "      <td>0.333333</td>\n",
       "      <td>1.000000</td>\n",
       "      <td>1.0</td>\n",
       "      <td>1.0</td>\n",
       "      <td>0.084746</td>\n",
       "    </tr>\n",
       "    <tr>\n",
       "      <th>45583</th>\n",
       "      <td>0.228571</td>\n",
       "      <td>0.78</td>\n",
       "      <td>0.754446</td>\n",
       "      <td>0.964341</td>\n",
       "      <td>0.666667</td>\n",
       "      <td>0.333333</td>\n",
       "      <td>0.590909</td>\n",
       "      <td>0.0</td>\n",
       "      <td>0.181818</td>\n",
       "      <td>0.0</td>\n",
       "      <td>0.666667</td>\n",
       "      <td>0.333333</td>\n",
       "      <td>0.666667</td>\n",
       "      <td>1.0</td>\n",
       "      <td>1.0</td>\n",
       "      <td>0.084746</td>\n",
       "    </tr>\n",
       "  </tbody>\n",
       "</table>\n",
       "<p>45584 rows × 16 columns</p>\n",
       "</div>"
      ],
      "text/plain": [
       "       Delivery_person_Age  Delivery_person_Ratings  \\\n",
       "0                 0.600000                     0.64   \n",
       "1                 0.171429                     0.74   \n",
       "2                 0.228571                     0.74   \n",
       "3                 0.542857                     0.66   \n",
       "4                 0.257143                     0.74   \n",
       "...                    ...                      ...   \n",
       "45579             0.428571                     0.76   \n",
       "45580             0.171429                     0.72   \n",
       "45581             0.428571                     0.78   \n",
       "45582             0.142857                     0.74   \n",
       "45583             0.228571                     0.78   \n",
       "\n",
       "       Delivery_location_latitude  Delivery_location_longitude  \\\n",
       "0                        0.978866                     0.882022   \n",
       "1                        0.323188                     0.862051   \n",
       "2                        0.600516                     0.835615   \n",
       "3                        0.995668                     0.856199   \n",
       "4                        0.856315                     0.908976   \n",
       "...                           ...                          ...   \n",
       "45579                    0.866585                     0.855915   \n",
       "45580                    0.001933                     0.000678   \n",
       "45581                    0.420125                     0.906373   \n",
       "45582                    0.355358                     0.869715   \n",
       "45583                    0.754446                     0.964341   \n",
       "\n",
       "       Vehicle_condition  multiple_deliveries  Time_taken (min)  \\\n",
       "0               0.666667             1.000000          0.818182   \n",
       "1               0.333333             0.333333          0.295455   \n",
       "2               0.333333             0.333333          0.250000   \n",
       "3               0.000000             0.000000          0.227273   \n",
       "4               0.333333             0.333333          0.704545   \n",
       "...                  ...                  ...               ...   \n",
       "45579           0.333333             0.000000          0.500000   \n",
       "45580           0.000000             0.333333          0.590909   \n",
       "45581           0.333333             0.000000          0.136364   \n",
       "45582           0.000000             0.333333          0.363636   \n",
       "45583           0.666667             0.333333          0.590909   \n",
       "\n",
       "       Time_Orderd_min  Time_Order_picked_min  Weather_conditions  \\\n",
       "0                  0.9               0.090909                 0.0   \n",
       "1                  0.9               0.000000                 0.2   \n",
       "2                  0.4               0.636364                 0.4   \n",
       "3                  0.2               0.454545                 0.4   \n",
       "4                  0.8               0.000000                 0.0   \n",
       "...                ...                    ...                 ...   \n",
       "45579              0.5               0.727273                 0.6   \n",
       "45580              0.9               0.090909                 0.6   \n",
       "45581              0.8               0.000000                 0.8   \n",
       "45582              0.5               0.636364                 0.8   \n",
       "45583              0.0               0.181818                 0.0   \n",
       "\n",
       "       Road_traffic_density  Type_of_order  Type_of_vehicle  Festival  City  \\\n",
       "0                  0.000000       0.333333         1.000000       1.0   1.0   \n",
       "1                  0.333333       0.666667         1.000000       1.0   1.0   \n",
       "2                  0.666667       0.000000         0.666667       1.0   1.0   \n",
       "3                  1.000000       1.000000         1.000000       1.0   1.0   \n",
       "4                  0.000000       0.333333         0.666667       1.0   1.0   \n",
       "...                     ...            ...              ...       ...   ...   \n",
       "45579              0.333333       0.666667         1.000000       1.0   1.0   \n",
       "45580              0.000000       1.000000         1.000000       1.0   1.0   \n",
       "45581              1.000000       0.000000         0.666667       1.0   1.0   \n",
       "45582              0.333333       0.333333         1.000000       1.0   1.0   \n",
       "45583              0.666667       0.333333         0.666667       1.0   1.0   \n",
       "\n",
       "       Time_diff_bw_order_and_pickup  \n",
       "0                           0.254237  \n",
       "1                           0.169492  \n",
       "2                           0.169492  \n",
       "3                           0.169492  \n",
       "4                           0.254237  \n",
       "...                              ...  \n",
       "45579                       0.169492  \n",
       "45580                       0.254237  \n",
       "45581                       0.254237  \n",
       "45582                       0.084746  \n",
       "45583                       0.084746  \n",
       "\n",
       "[45584 rows x 16 columns]"
      ]
     },
     "execution_count": 45,
     "metadata": {},
     "output_type": "execute_result"
    }
   ],
   "source": [
    "final_df"
   ]
  }
 ],
 "metadata": {
  "kernelspec": {
   "display_name": "Python 3",
   "language": "python",
   "name": "python3"
  },
  "language_info": {
   "codemirror_mode": {
    "name": "ipython",
    "version": 3
   },
   "file_extension": ".py",
   "mimetype": "text/x-python",
   "name": "python",
   "nbconvert_exporter": "python",
   "pygments_lexer": "ipython3",
   "version": "3.8.0"
  },
  "orig_nbformat": 4
 },
 "nbformat": 4,
 "nbformat_minor": 2
}
